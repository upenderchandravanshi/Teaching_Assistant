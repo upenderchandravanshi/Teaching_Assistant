{
 "cells": [
  {
   "cell_type": "markdown",
   "id": "c056ce8a",
   "metadata": {},
   "source": [
    "# Import essential libraries"
   ]
  },
  {
   "cell_type": "code",
   "execution_count": 1,
   "id": "52918945",
   "metadata": {},
   "outputs": [],
   "source": [
    "# import libraries\n",
    "import pandas as pd # for data manupulation or analysis\n",
    "import numpy as np # for numeric calculation"
   ]
  },
  {
   "cell_type": "markdown",
   "id": "08d96dcf",
   "metadata": {},
   "source": [
    "# Data Load"
   ]
  },
  {
   "cell_type": "code",
   "execution_count": 2,
   "id": "73ac91c3",
   "metadata": {},
   "outputs": [],
   "source": [
    "df=pd.read_csv(\"/Users/upend/Downloads/assessment/data.csv\",header=None,names=['TA','Course_Instructor','Course','Semester','Class_size','Class_Attribute'])"
   ]
  },
  {
   "cell_type": "code",
   "execution_count": 3,
   "id": "fb9e208b",
   "metadata": {},
   "outputs": [
    {
     "data": {
      "text/html": [
       "<div>\n",
       "<style scoped>\n",
       "    .dataframe tbody tr th:only-of-type {\n",
       "        vertical-align: middle;\n",
       "    }\n",
       "\n",
       "    .dataframe tbody tr th {\n",
       "        vertical-align: top;\n",
       "    }\n",
       "\n",
       "    .dataframe thead th {\n",
       "        text-align: right;\n",
       "    }\n",
       "</style>\n",
       "<table border=\"1\" class=\"dataframe\">\n",
       "  <thead>\n",
       "    <tr style=\"text-align: right;\">\n",
       "      <th></th>\n",
       "      <th>TA</th>\n",
       "      <th>Course_Instructor</th>\n",
       "      <th>Course</th>\n",
       "      <th>Semester</th>\n",
       "      <th>Class_size</th>\n",
       "      <th>Class_Attribute</th>\n",
       "    </tr>\n",
       "  </thead>\n",
       "  <tbody>\n",
       "    <tr>\n",
       "      <th>0</th>\n",
       "      <td>1</td>\n",
       "      <td>23</td>\n",
       "      <td>3</td>\n",
       "      <td>1</td>\n",
       "      <td>19</td>\n",
       "      <td>3</td>\n",
       "    </tr>\n",
       "    <tr>\n",
       "      <th>1</th>\n",
       "      <td>2</td>\n",
       "      <td>15</td>\n",
       "      <td>3</td>\n",
       "      <td>1</td>\n",
       "      <td>17</td>\n",
       "      <td>3</td>\n",
       "    </tr>\n",
       "    <tr>\n",
       "      <th>2</th>\n",
       "      <td>1</td>\n",
       "      <td>23</td>\n",
       "      <td>3</td>\n",
       "      <td>2</td>\n",
       "      <td>49</td>\n",
       "      <td>3</td>\n",
       "    </tr>\n",
       "    <tr>\n",
       "      <th>3</th>\n",
       "      <td>1</td>\n",
       "      <td>5</td>\n",
       "      <td>2</td>\n",
       "      <td>2</td>\n",
       "      <td>33</td>\n",
       "      <td>3</td>\n",
       "    </tr>\n",
       "    <tr>\n",
       "      <th>4</th>\n",
       "      <td>2</td>\n",
       "      <td>7</td>\n",
       "      <td>11</td>\n",
       "      <td>2</td>\n",
       "      <td>55</td>\n",
       "      <td>3</td>\n",
       "    </tr>\n",
       "    <tr>\n",
       "      <th>5</th>\n",
       "      <td>2</td>\n",
       "      <td>23</td>\n",
       "      <td>3</td>\n",
       "      <td>1</td>\n",
       "      <td>20</td>\n",
       "      <td>3</td>\n",
       "    </tr>\n",
       "    <tr>\n",
       "      <th>6</th>\n",
       "      <td>2</td>\n",
       "      <td>9</td>\n",
       "      <td>5</td>\n",
       "      <td>2</td>\n",
       "      <td>19</td>\n",
       "      <td>3</td>\n",
       "    </tr>\n",
       "    <tr>\n",
       "      <th>7</th>\n",
       "      <td>2</td>\n",
       "      <td>10</td>\n",
       "      <td>3</td>\n",
       "      <td>2</td>\n",
       "      <td>27</td>\n",
       "      <td>3</td>\n",
       "    </tr>\n",
       "    <tr>\n",
       "      <th>8</th>\n",
       "      <td>1</td>\n",
       "      <td>22</td>\n",
       "      <td>3</td>\n",
       "      <td>1</td>\n",
       "      <td>58</td>\n",
       "      <td>3</td>\n",
       "    </tr>\n",
       "    <tr>\n",
       "      <th>9</th>\n",
       "      <td>2</td>\n",
       "      <td>15</td>\n",
       "      <td>3</td>\n",
       "      <td>1</td>\n",
       "      <td>20</td>\n",
       "      <td>3</td>\n",
       "    </tr>\n",
       "  </tbody>\n",
       "</table>\n",
       "</div>"
      ],
      "text/plain": [
       "   TA  Course_Instructor  Course  Semester  Class_size  Class_Attribute\n",
       "0   1                 23       3         1          19                3\n",
       "1   2                 15       3         1          17                3\n",
       "2   1                 23       3         2          49                3\n",
       "3   1                  5       2         2          33                3\n",
       "4   2                  7      11         2          55                3\n",
       "5   2                 23       3         1          20                3\n",
       "6   2                  9       5         2          19                3\n",
       "7   2                 10       3         2          27                3\n",
       "8   1                 22       3         1          58                3\n",
       "9   2                 15       3         1          20                3"
      ]
     },
     "execution_count": 3,
     "metadata": {},
     "output_type": "execute_result"
    }
   ],
   "source": [
    "df.head(10)"
   ]
  },
  {
   "cell_type": "code",
   "execution_count": 4,
   "id": "dbfd5b78",
   "metadata": {},
   "outputs": [
    {
     "data": {
      "text/plain": [
       "(151, 6)"
      ]
     },
     "execution_count": 4,
     "metadata": {},
     "output_type": "execute_result"
    }
   ],
   "source": [
    "df.shape"
   ]
  },
  {
   "cell_type": "code",
   "execution_count": 5,
   "id": "54ffc163",
   "metadata": {},
   "outputs": [
    {
     "data": {
      "text/plain": [
       "TA                   0\n",
       "Course_Instructor    0\n",
       "Course               0\n",
       "Semester             0\n",
       "Class_size           0\n",
       "Class_Attribute      0\n",
       "dtype: int64"
      ]
     },
     "execution_count": 5,
     "metadata": {},
     "output_type": "execute_result"
    }
   ],
   "source": [
    "df.isnull().sum()"
   ]
  },
  {
   "cell_type": "code",
   "execution_count": 6,
   "id": "a54ab92a",
   "metadata": {},
   "outputs": [
    {
     "name": "stdout",
     "output_type": "stream",
     "text": [
      "<class 'pandas.core.frame.DataFrame'>\n",
      "RangeIndex: 151 entries, 0 to 150\n",
      "Data columns (total 6 columns):\n",
      " #   Column             Non-Null Count  Dtype\n",
      "---  ------             --------------  -----\n",
      " 0   TA                 151 non-null    int64\n",
      " 1   Course_Instructor  151 non-null    int64\n",
      " 2   Course             151 non-null    int64\n",
      " 3   Semester           151 non-null    int64\n",
      " 4   Class_size         151 non-null    int64\n",
      " 5   Class_Attribute    151 non-null    int64\n",
      "dtypes: int64(6)\n",
      "memory usage: 7.2 KB\n"
     ]
    }
   ],
   "source": [
    "df.info()"
   ]
  },
  {
   "cell_type": "code",
   "execution_count": 7,
   "id": "b72d0271",
   "metadata": {},
   "outputs": [
    {
     "data": {
      "text/plain": [
       "array([23, 15,  5,  7,  9, 10, 22, 13, 18,  6, 25,  2,  1,  8, 14, 21, 11,\n",
       "       16,  4, 17, 20, 12, 24,  3, 19], dtype=int64)"
      ]
     },
     "execution_count": 7,
     "metadata": {},
     "output_type": "execute_result"
    }
   ],
   "source": [
    "df['Course_Instructor'].unique()"
   ]
  },
  {
   "cell_type": "code",
   "execution_count": 8,
   "id": "2025ec8d",
   "metadata": {},
   "outputs": [
    {
     "data": {
      "text/plain": [
       "array([ 3,  2, 11,  5, 22,  1, 21, 17, 25,  7,  9, 15, 13,  8, 16, 19, 14,\n",
       "        6, 12, 18, 23, 26, 24, 20,  4, 10], dtype=int64)"
      ]
     },
     "execution_count": 8,
     "metadata": {},
     "output_type": "execute_result"
    }
   ],
   "source": [
    "df['Course'].unique()"
   ]
  },
  {
   "cell_type": "markdown",
   "id": "38b7c4a9",
   "metadata": {},
   "source": [
    "# Split Dataset in train and test"
   ]
  },
  {
   "cell_type": "code",
   "execution_count": 9,
   "id": "a5d04b69",
   "metadata": {},
   "outputs": [
    {
     "name": "stdout",
     "output_type": "stream",
     "text": [
      "Shape of X =  (151, 5)\n",
      "Shape of y =  (151,)\n"
     ]
    }
   ],
   "source": [
    "X = df.drop(\"Class_Attribute\", axis = 1)\n",
    "y = df[\"Class_Attribute\"]\n",
    "print('Shape of X = ', X.shape)\n",
    "print('Shape of y = ', y.shape)"
   ]
  },
  {
   "cell_type": "code",
   "execution_count": 10,
   "id": "4f8c1935",
   "metadata": {},
   "outputs": [],
   "source": [
    "from sklearn import preprocessing\n",
    "normalized_X = preprocessing.normalize(X)"
   ]
  },
  {
   "cell_type": "code",
   "execution_count": 11,
   "id": "40938808",
   "metadata": {},
   "outputs": [],
   "source": [
    "from sklearn.model_selection import train_test_split"
   ]
  },
  {
   "cell_type": "code",
   "execution_count": 12,
   "id": "e13123f7",
   "metadata": {},
   "outputs": [
    {
     "name": "stdout",
     "output_type": "stream",
     "text": [
      "Shape of X_train =  (120, 5)\n",
      "Shape of y_train =  (120,)\n",
      "Shape of X_test =  (31, 5)\n",
      "Shape of y_test =  (31,)\n"
     ]
    }
   ],
   "source": [
    "X_train, X_test, y_train, y_test = train_test_split(X, y, test_size = 0.2,random_state= 8)\n",
    "print('Shape of X_train = ', X_train.shape)\n",
    "print('Shape of y_train = ', y_train.shape)\n",
    "print('Shape of X_test = ', X_test.shape)\n",
    "print('Shape of y_test = ', y_test.shape)"
   ]
  },
  {
   "cell_type": "markdown",
   "id": "be361c00",
   "metadata": {},
   "source": [
    "# Feature Scaling"
   ]
  },
  {
   "cell_type": "markdown",
   "id": "dfb8f035",
   "metadata": {},
   "source": [
    "# Machine Learning Model Training"
   ]
  },
  {
   "cell_type": "code",
   "execution_count": 13,
   "id": "e78d0e3a",
   "metadata": {},
   "outputs": [],
   "source": [
    "from sklearn.metrics import confusion_matrix, classification_report, accuracy_score"
   ]
  },
  {
   "cell_type": "markdown",
   "id": "ffc9785e",
   "metadata": {},
   "source": [
    "# Linear Regression"
   ]
  },
  {
   "cell_type": "code",
   "execution_count": 14,
   "id": "f1519ca8",
   "metadata": {},
   "outputs": [
    {
     "name": "stderr",
     "output_type": "stream",
     "text": [
      "C:\\ProgramData\\anaconda3\\lib\\site-packages\\sklearn\\linear_model\\_logistic.py:458: ConvergenceWarning: lbfgs failed to converge (status=1):\n",
      "STOP: TOTAL NO. of ITERATIONS REACHED LIMIT.\n",
      "\n",
      "Increase the number of iterations (max_iter) or scale the data as shown in:\n",
      "    https://scikit-learn.org/stable/modules/preprocessing.html\n",
      "Please also refer to the documentation for alternative solver options:\n",
      "    https://scikit-learn.org/stable/modules/linear_model.html#logistic-regression\n",
      "  n_iter_i = _check_optimize_result(\n"
     ]
    },
    {
     "data": {
      "text/plain": [
       "0.4838709677419355"
      ]
     },
     "execution_count": 14,
     "metadata": {},
     "output_type": "execute_result"
    }
   ],
   "source": [
    "# Logistic Regression\n",
    "from sklearn.linear_model import LogisticRegression\n",
    "lr_model = LogisticRegression(random_state = 0)\n",
    "lr_model.fit(X_train, y_train)\n",
    "y_pred_lr = lr_model.predict(X_test)\n",
    "\n",
    "accuracy_score(y_test, y_pred_lr)"
   ]
  },
  {
   "cell_type": "markdown",
   "id": "87f3a869",
   "metadata": {},
   "source": [
    "\n",
    "# Support Vector Machine"
   ]
  },
  {
   "cell_type": "code",
   "execution_count": 15,
   "id": "a2198fe1",
   "metadata": {},
   "outputs": [
    {
     "data": {
      "text/plain": [
       "0.3870967741935484"
      ]
     },
     "execution_count": 15,
     "metadata": {},
     "output_type": "execute_result"
    }
   ],
   "source": [
    "# Support vector classifier\n",
    "from sklearn.svm import SVC\n",
    "svc_classifier = SVC()\n",
    "svc_classifier.fit(X_train, y_train)\n",
    "y_pred_scv = svc_classifier.predict(X_test)\n",
    "accuracy_score(y_test, y_pred_scv)"
   ]
  },
  {
   "cell_type": "markdown",
   "id": "b93c622c",
   "metadata": {},
   "source": [
    "# K – Nearest Neighbor Classifier"
   ]
  },
  {
   "cell_type": "code",
   "execution_count": 16,
   "id": "02da89f9",
   "metadata": {},
   "outputs": [
    {
     "data": {
      "text/plain": [
       "0.41935483870967744"
      ]
     },
     "execution_count": 16,
     "metadata": {},
     "output_type": "execute_result"
    }
   ],
   "source": [
    "# K – Nearest Neighbor Classifier\n",
    "from sklearn.neighbors import KNeighborsClassifier\n",
    "knn_classifier = KNeighborsClassifier(n_neighbors = 5, metric = 'minkowski', p = 2)\n",
    "knn_classifier.fit(X_train, y_train)\n",
    "y_pred_knn = knn_classifier.predict(X_test)\n",
    "accuracy_score(y_test, y_pred_knn)"
   ]
  },
  {
   "cell_type": "markdown",
   "id": "31f4f343",
   "metadata": {},
   "source": [
    "# Naive Bayes Classifier"
   ]
  },
  {
   "cell_type": "code",
   "execution_count": 17,
   "id": "2e8b13ea",
   "metadata": {},
   "outputs": [
    {
     "data": {
      "text/plain": [
       "0.6451612903225806"
      ]
     },
     "execution_count": 17,
     "metadata": {},
     "output_type": "execute_result"
    }
   ],
   "source": [
    "# Naive Bayes Classifier\n",
    "from sklearn.naive_bayes import GaussianNB\n",
    "nb_classifier = GaussianNB()\n",
    "nb_classifier.fit(X_train, y_train)\n",
    "y_pred_nb = nb_classifier.predict(X_test)\n",
    "accuracy_score(y_test, y_pred_nb)"
   ]
  },
  {
   "cell_type": "markdown",
   "id": "1d9c21b4",
   "metadata": {},
   "source": [
    "# Decision Tree Classifier"
   ]
  },
  {
   "cell_type": "code",
   "execution_count": 18,
   "id": "53469370",
   "metadata": {},
   "outputs": [
    {
     "data": {
      "text/plain": [
       "0.7096774193548387"
      ]
     },
     "execution_count": 18,
     "metadata": {},
     "output_type": "execute_result"
    }
   ],
   "source": [
    "# Decision Tree Classifier\n",
    "from sklearn.tree import DecisionTreeClassifier\n",
    "dt_model = DecisionTreeClassifier(criterion= 'entropy', random_state=3)\n",
    "dt_model.fit(X_train, y_train)\n",
    "y_pred_dt = dt_model.predict(X_test)\n",
    "\n",
    "accuracy_score(y_test, y_pred_dt)"
   ]
  },
  {
   "cell_type": "markdown",
   "id": "dca28572",
   "metadata": {},
   "source": [
    "# Random Forest Classifier"
   ]
  },
  {
   "cell_type": "code",
   "execution_count": 19,
   "id": "a18ee58d",
   "metadata": {},
   "outputs": [
    {
     "data": {
      "text/plain": [
       "0.6774193548387096"
      ]
     },
     "execution_count": 19,
     "metadata": {},
     "output_type": "execute_result"
    }
   ],
   "source": [
    "# Random Forest Classifier\n",
    "from sklearn.ensemble import RandomForestClassifier\n",
    "rf_classifier = RandomForestClassifier(n_estimators = 20, criterion = 'entropy', random_state = 51)\n",
    "rf_classifier.fit(X_train, y_train)\n",
    "y_pred_rf = rf_classifier.predict(X_test)\n",
    "accuracy_score(y_test, y_pred_rf)"
   ]
  },
  {
   "cell_type": "markdown",
   "id": "2a42ae99",
   "metadata": {},
   "source": [
    "# AdaBoost Classifier"
   ]
  },
  {
   "cell_type": "code",
   "execution_count": 20,
   "id": "30f83920",
   "metadata": {},
   "outputs": [
    {
     "data": {
      "text/plain": [
       "0.7741935483870968"
      ]
     },
     "execution_count": 20,
     "metadata": {},
     "output_type": "execute_result"
    }
   ],
   "source": [
    "# Adaboost Classifier\n",
    "from sklearn.ensemble import AdaBoostClassifier\n",
    "adb_classifier = AdaBoostClassifier(DecisionTreeClassifier(criterion = 'entropy', random_state = 200),\n",
    "                                    n_estimators=2000,\n",
    "                                    learning_rate=0.1,\n",
    "                                    algorithm='SAMME.R',\n",
    "                                    random_state=1,)\n",
    "adb_classifier.fit(X_train, y_train)\n",
    "y_pred_adb = adb_classifier.predict(X_test)\n",
    "accuracy_score(y_test, y_pred_adb)"
   ]
  },
  {
   "cell_type": "code",
   "execution_count": 21,
   "id": "f35758cb",
   "metadata": {},
   "outputs": [
    {
     "name": "stdout",
     "output_type": "stream",
     "text": [
      "              precision    recall  f1-score   support\n",
      "\n",
      "           1       0.69      0.85      0.76        13\n",
      "           2       0.75      0.33      0.46         9\n",
      "           3       0.73      0.89      0.80         9\n",
      "\n",
      "    accuracy                           0.71        31\n",
      "   macro avg       0.72      0.69      0.67        31\n",
      "weighted avg       0.72      0.71      0.68        31\n",
      "\n"
     ]
    }
   ],
   "source": [
    "print(classification_report(y_test, y_pred_dt))"
   ]
  },
  {
   "cell_type": "code",
   "execution_count": 22,
   "id": "0272bdba",
   "metadata": {},
   "outputs": [
    {
     "name": "stdout",
     "output_type": "stream",
     "text": [
      "Cross validation accuracy of Decision Tree model =  [0.66666667 0.5        0.5        0.66666667 0.58333333 0.58333333\n",
      " 0.58333333 0.41666667 0.58333333 0.25      ]\n",
      "\n",
      "Cross validation mean accuracy of Decision Tree model =  0.5333333333333333\n"
     ]
    }
   ],
   "source": [
    "# Cross validation\n",
    "from sklearn.model_selection import cross_val_score\n",
    "cross_validation = cross_val_score(estimator = dt_model, X = X_train,y = y_train, cv = 10)\n",
    "print(\"Cross validation accuracy of Decision Tree model = \", cross_validation)\n",
    "print(\"\\nCross validation mean accuracy of Decision Tree model = \", cross_validation.mean())"
   ]
  },
  {
   "cell_type": "code",
   "execution_count": 23,
   "id": "34fac0ad",
   "metadata": {},
   "outputs": [
    {
     "name": "stdout",
     "output_type": "stream",
     "text": [
      "Confussion matrix = \n",
      " [[11  1  1]\n",
      " [ 4  3  2]\n",
      " [ 1  0  8]]\n",
      "Accuracy of model =  0.7096774193548387\n"
     ]
    }
   ],
   "source": [
    "## Pickle\n",
    "import pickle\n",
    "\n",
    "# save model\n",
    "pickle.dump(dt_model, open('Teaching_Assistant_ML_model.pickle', 'wb'))\n",
    "\n",
    "# load model\n",
    "ml_model_pl = pickle.load(open('Teaching_Assistant_ML_model.pickle', 'rb'))\n",
    "\n",
    "# predict the output\n",
    "y_pred_pl = ml_model_pl.predict(X_test)\n",
    "\n",
    "# confusion matrix\n",
    "cm_pl = confusion_matrix(y_test, y_pred_pl)\n",
    "print('Confussion matrix = \\n', cm_pl)\n",
    "\n",
    "# show the accuracy\n",
    "print(\"Accuracy of model = \",accuracy_score(y_test, y_pred_pl))"
   ]
  },
  {
   "cell_type": "code",
   "execution_count": null,
   "id": "163d2b9f",
   "metadata": {},
   "outputs": [],
   "source": []
  }
 ],
 "metadata": {
  "kernelspec": {
   "display_name": "Python 3 (ipykernel)",
   "language": "python",
   "name": "python3"
  },
  "language_info": {
   "codemirror_mode": {
    "name": "ipython",
    "version": 3
   },
   "file_extension": ".py",
   "mimetype": "text/x-python",
   "name": "python",
   "nbconvert_exporter": "python",
   "pygments_lexer": "ipython3",
   "version": "3.10.9"
  }
 },
 "nbformat": 4,
 "nbformat_minor": 5
}
